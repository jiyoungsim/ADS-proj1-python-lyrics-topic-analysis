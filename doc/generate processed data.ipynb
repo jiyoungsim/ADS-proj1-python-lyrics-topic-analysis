{
 "cells": [
  {
   "cell_type": "markdown",
   "metadata": {},
   "source": [
    "### Import Modules"
   ]
  },
  {
   "cell_type": "code",
   "execution_count": 1,
   "metadata": {},
   "outputs": [
    {
     "name": "stderr",
     "output_type": "stream",
     "text": [
      "[nltk_data] Downloading package punkt to C:\\Users\\Jiyoung\n",
      "[nltk_data]     Sim\\AppData\\Roaming\\nltk_data...\n",
      "[nltk_data]   Package punkt is already up-to-date!\n",
      "[nltk_data] Downloading package stopwords to C:\\Users\\Jiyoung\n",
      "[nltk_data]     Sim\\AppData\\Roaming\\nltk_data...\n",
      "[nltk_data]   Package stopwords is already up-to-date!\n"
     ]
    },
    {
     "data": {
      "text/plain": [
       "True"
      ]
     },
     "execution_count": 1,
     "metadata": {},
     "output_type": "execute_result"
    }
   ],
   "source": [
    "import numpy as np\n",
    "import pandas as pd\n",
    "\n",
    "# Text\n",
    "import nltk, re\n",
    "from nltk import word_tokenize, sent_tokenize\n",
    "from nltk.corpus import stopwords\n",
    "from nltk.stem.porter import PorterStemmer\n",
    "\n",
    "nltk.download('punkt')\n",
    "nltk.download('stopwords')"
   ]
  },
  {
   "cell_type": "markdown",
   "metadata": {},
   "source": [
    "### Load Data"
   ]
  },
  {
   "cell_type": "code",
   "execution_count": 2,
   "metadata": {},
   "outputs": [],
   "source": [
    "lyrics = pd.read_csv('lyrics.csv')"
   ]
  },
  {
   "cell_type": "code",
   "execution_count": 3,
   "metadata": {},
   "outputs": [
    {
     "data": {
      "text/html": [
       "<div>\n",
       "<style scoped>\n",
       "    .dataframe tbody tr th:only-of-type {\n",
       "        vertical-align: middle;\n",
       "    }\n",
       "\n",
       "    .dataframe tbody tr th {\n",
       "        vertical-align: top;\n",
       "    }\n",
       "\n",
       "    .dataframe thead th {\n",
       "        text-align: right;\n",
       "    }\n",
       "</style>\n",
       "<table border=\"1\" class=\"dataframe\">\n",
       "  <thead>\n",
       "    <tr style=\"text-align: right;\">\n",
       "      <th></th>\n",
       "      <th>song</th>\n",
       "      <th>year</th>\n",
       "      <th>artist</th>\n",
       "      <th>genre</th>\n",
       "      <th>lyrics</th>\n",
       "    </tr>\n",
       "  </thead>\n",
       "  <tbody>\n",
       "    <tr>\n",
       "      <th>0</th>\n",
       "      <td>when-you-were-with-me</td>\n",
       "      <td>2009</td>\n",
       "      <td>a</td>\n",
       "      <td>Hip-Hop</td>\n",
       "      <td>I stopped by the house we called our home\\nIt ...</td>\n",
       "    </tr>\n",
       "    <tr>\n",
       "      <th>1</th>\n",
       "      <td>careless-whisper</td>\n",
       "      <td>2009</td>\n",
       "      <td>a</td>\n",
       "      <td>Hip-Hop</td>\n",
       "      <td>I feel so unsure\\nAs I take your hand and lead...</td>\n",
       "    </tr>\n",
       "    <tr>\n",
       "      <th>2</th>\n",
       "      <td>2-59</td>\n",
       "      <td>2007</td>\n",
       "      <td>a</td>\n",
       "      <td>Hip-Hop</td>\n",
       "      <td>Mark:] Sunday football I got boot off the pitc...</td>\n",
       "    </tr>\n",
       "    <tr>\n",
       "      <th>3</th>\n",
       "      <td>power-of-desire</td>\n",
       "      <td>2007</td>\n",
       "      <td>a</td>\n",
       "      <td>Hip-Hop</td>\n",
       "      <td>[Chris:] Fallin' for a fantasy\\nI threw away m...</td>\n",
       "    </tr>\n",
       "    <tr>\n",
       "      <th>4</th>\n",
       "      <td>you-re-not-in-love</td>\n",
       "      <td>2007</td>\n",
       "      <td>a</td>\n",
       "      <td>Hip-Hop</td>\n",
       "      <td>something in the way we touch\\nyou hold my han...</td>\n",
       "    </tr>\n",
       "  </tbody>\n",
       "</table>\n",
       "</div>"
      ],
      "text/plain": [
       "                    song  year artist    genre  \\\n",
       "0  when-you-were-with-me  2009      a  Hip-Hop   \n",
       "1       careless-whisper  2009      a  Hip-Hop   \n",
       "2                   2-59  2007      a  Hip-Hop   \n",
       "3        power-of-desire  2007      a  Hip-Hop   \n",
       "4     you-re-not-in-love  2007      a  Hip-Hop   \n",
       "\n",
       "                                              lyrics  \n",
       "0  I stopped by the house we called our home\\nIt ...  \n",
       "1  I feel so unsure\\nAs I take your hand and lead...  \n",
       "2  Mark:] Sunday football I got boot off the pitc...  \n",
       "3  [Chris:] Fallin' for a fantasy\\nI threw away m...  \n",
       "4  something in the way we touch\\nyou hold my han...  "
      ]
     },
     "execution_count": 3,
     "metadata": {},
     "output_type": "execute_result"
    }
   ],
   "source": [
    "lyrics.head()"
   ]
  },
  {
   "cell_type": "markdown",
   "metadata": {},
   "source": [
    "### Add Decade Feature"
   ]
  },
  {
   "cell_type": "code",
   "execution_count": 4,
   "metadata": {},
   "outputs": [
    {
     "data": {
      "text/html": [
       "<div>\n",
       "<style scoped>\n",
       "    .dataframe tbody tr th:only-of-type {\n",
       "        vertical-align: middle;\n",
       "    }\n",
       "\n",
       "    .dataframe tbody tr th {\n",
       "        vertical-align: top;\n",
       "    }\n",
       "\n",
       "    .dataframe thead th {\n",
       "        text-align: right;\n",
       "    }\n",
       "</style>\n",
       "<table border=\"1\" class=\"dataframe\">\n",
       "  <thead>\n",
       "    <tr style=\"text-align: right;\">\n",
       "      <th></th>\n",
       "      <th>song</th>\n",
       "      <th>year</th>\n",
       "      <th>artist</th>\n",
       "      <th>genre</th>\n",
       "      <th>lyrics</th>\n",
       "      <th>decade</th>\n",
       "    </tr>\n",
       "  </thead>\n",
       "  <tbody>\n",
       "    <tr>\n",
       "      <th>0</th>\n",
       "      <td>when-you-were-with-me</td>\n",
       "      <td>2009</td>\n",
       "      <td>a</td>\n",
       "      <td>Hip-Hop</td>\n",
       "      <td>I stopped by the house we called our home\\nIt ...</td>\n",
       "      <td>2000</td>\n",
       "    </tr>\n",
       "    <tr>\n",
       "      <th>1</th>\n",
       "      <td>careless-whisper</td>\n",
       "      <td>2009</td>\n",
       "      <td>a</td>\n",
       "      <td>Hip-Hop</td>\n",
       "      <td>I feel so unsure\\nAs I take your hand and lead...</td>\n",
       "      <td>2000</td>\n",
       "    </tr>\n",
       "    <tr>\n",
       "      <th>2</th>\n",
       "      <td>2-59</td>\n",
       "      <td>2007</td>\n",
       "      <td>a</td>\n",
       "      <td>Hip-Hop</td>\n",
       "      <td>Mark:] Sunday football I got boot off the pitc...</td>\n",
       "      <td>2000</td>\n",
       "    </tr>\n",
       "    <tr>\n",
       "      <th>3</th>\n",
       "      <td>power-of-desire</td>\n",
       "      <td>2007</td>\n",
       "      <td>a</td>\n",
       "      <td>Hip-Hop</td>\n",
       "      <td>[Chris:] Fallin' for a fantasy\\nI threw away m...</td>\n",
       "      <td>2000</td>\n",
       "    </tr>\n",
       "    <tr>\n",
       "      <th>4</th>\n",
       "      <td>you-re-not-in-love</td>\n",
       "      <td>2007</td>\n",
       "      <td>a</td>\n",
       "      <td>Hip-Hop</td>\n",
       "      <td>something in the way we touch\\nyou hold my han...</td>\n",
       "      <td>2000</td>\n",
       "    </tr>\n",
       "  </tbody>\n",
       "</table>\n",
       "</div>"
      ],
      "text/plain": [
       "                    song  year artist    genre  \\\n",
       "0  when-you-were-with-me  2009      a  Hip-Hop   \n",
       "1       careless-whisper  2009      a  Hip-Hop   \n",
       "2                   2-59  2007      a  Hip-Hop   \n",
       "3        power-of-desire  2007      a  Hip-Hop   \n",
       "4     you-re-not-in-love  2007      a  Hip-Hop   \n",
       "\n",
       "                                              lyrics  decade  \n",
       "0  I stopped by the house we called our home\\nIt ...    2000  \n",
       "1  I feel so unsure\\nAs I take your hand and lead...    2000  \n",
       "2  Mark:] Sunday football I got boot off the pitc...    2000  \n",
       "3  [Chris:] Fallin' for a fantasy\\nI threw away m...    2000  \n",
       "4  something in the way we touch\\nyou hold my han...    2000  "
      ]
     },
     "execution_count": 4,
     "metadata": {},
     "output_type": "execute_result"
    }
   ],
   "source": [
    "lyrics['decade'] = lyrics['year']//10*10\n",
    "lyrics.head()"
   ]
  },
  {
   "cell_type": "markdown",
   "metadata": {},
   "source": [
    "### Stem Lyrics"
   ]
  },
  {
   "cell_type": "code",
   "execution_count": 5,
   "metadata": {},
   "outputs": [],
   "source": [
    "stemmer = PorterStemmer()\n",
    "\n",
    "def tokenize_and_stem(text):\n",
    "    lowers = text.lower()\n",
    "    tokens = [word for sent in nltk.sent_tokenize(lowers) for word in nltk.word_tokenize(sent)]\n",
    "    filtered_tokens = []\n",
    "    # filter out any tokens not containing letters (e.g., numeric tokens, raw punctuation)\n",
    "    for token in tokens:\n",
    "        if re.search('[a-zA-Z]', token) and not token in stopwords.words('english'):\n",
    "            filtered_tokens.append(re.sub(r'[^\\w\\s]','',token))\n",
    "    stems = [stemmer.stem(t) for t in filtered_tokens]\n",
    "    return ' '.join(stems)"
   ]
  },
  {
   "cell_type": "code",
   "execution_count": 6,
   "metadata": {},
   "outputs": [],
   "source": [
    "lyrics['stemmed lyrics'] = lyrics['lyrics'].apply(tokenize_and_stem)"
   ]
  },
  {
   "cell_type": "code",
   "execution_count": 9,
   "metadata": {},
   "outputs": [
    {
     "data": {
      "text/html": [
       "<div>\n",
       "<style scoped>\n",
       "    .dataframe tbody tr th:only-of-type {\n",
       "        vertical-align: middle;\n",
       "    }\n",
       "\n",
       "    .dataframe tbody tr th {\n",
       "        vertical-align: top;\n",
       "    }\n",
       "\n",
       "    .dataframe thead th {\n",
       "        text-align: right;\n",
       "    }\n",
       "</style>\n",
       "<table border=\"1\" class=\"dataframe\">\n",
       "  <thead>\n",
       "    <tr style=\"text-align: right;\">\n",
       "      <th></th>\n",
       "      <th>song</th>\n",
       "      <th>year</th>\n",
       "      <th>artist</th>\n",
       "      <th>genre</th>\n",
       "      <th>lyrics</th>\n",
       "      <th>decade</th>\n",
       "      <th>stemmed lyrics</th>\n",
       "    </tr>\n",
       "  </thead>\n",
       "  <tbody>\n",
       "    <tr>\n",
       "      <th>0</th>\n",
       "      <td>when-you-were-with-me</td>\n",
       "      <td>2009</td>\n",
       "      <td>a</td>\n",
       "      <td>Hip-Hop</td>\n",
       "      <td>I stopped by the house we called our home\\nIt ...</td>\n",
       "      <td>2000</td>\n",
       "      <td>stop hous call home littl rundown grass overgr...</td>\n",
       "    </tr>\n",
       "    <tr>\n",
       "      <th>1</th>\n",
       "      <td>careless-whisper</td>\n",
       "      <td>2009</td>\n",
       "      <td>a</td>\n",
       "      <td>Hip-Hop</td>\n",
       "      <td>I feel so unsure\\nAs I take your hand and lead...</td>\n",
       "      <td>2000</td>\n",
       "      <td>feel unsur take hand lead danc floor music die...</td>\n",
       "    </tr>\n",
       "    <tr>\n",
       "      <th>2</th>\n",
       "      <td>2-59</td>\n",
       "      <td>2007</td>\n",
       "      <td>a</td>\n",
       "      <td>Hip-Hop</td>\n",
       "      <td>Mark:] Sunday football I got boot off the pitc...</td>\n",
       "      <td>2000</td>\n",
       "      <td>mark sunday footbal got boot pitch peopl gambl...</td>\n",
       "    </tr>\n",
       "    <tr>\n",
       "      <th>3</th>\n",
       "      <td>power-of-desire</td>\n",
       "      <td>2007</td>\n",
       "      <td>a</td>\n",
       "      <td>Hip-Hop</td>\n",
       "      <td>[Chris:] Fallin' for a fantasy\\nI threw away m...</td>\n",
       "      <td>2000</td>\n",
       "      <td>chri fallin fantasi threw away destini nt know...</td>\n",
       "    </tr>\n",
       "    <tr>\n",
       "      <th>4</th>\n",
       "      <td>you-re-not-in-love</td>\n",
       "      <td>2007</td>\n",
       "      <td>a</td>\n",
       "      <td>Hip-Hop</td>\n",
       "      <td>something in the way we touch\\nyou hold my han...</td>\n",
       "      <td>2000</td>\n",
       "      <td>someth way touch hold hand hold back much some...</td>\n",
       "    </tr>\n",
       "  </tbody>\n",
       "</table>\n",
       "</div>"
      ],
      "text/plain": [
       "                    song  year artist    genre  \\\n",
       "0  when-you-were-with-me  2009      a  Hip-Hop   \n",
       "1       careless-whisper  2009      a  Hip-Hop   \n",
       "2                   2-59  2007      a  Hip-Hop   \n",
       "3        power-of-desire  2007      a  Hip-Hop   \n",
       "4     you-re-not-in-love  2007      a  Hip-Hop   \n",
       "\n",
       "                                              lyrics  decade  \\\n",
       "0  I stopped by the house we called our home\\nIt ...    2000   \n",
       "1  I feel so unsure\\nAs I take your hand and lead...    2000   \n",
       "2  Mark:] Sunday football I got boot off the pitc...    2000   \n",
       "3  [Chris:] Fallin' for a fantasy\\nI threw away m...    2000   \n",
       "4  something in the way we touch\\nyou hold my han...    2000   \n",
       "\n",
       "                                      stemmed lyrics  \n",
       "0  stop hous call home littl rundown grass overgr...  \n",
       "1  feel unsur take hand lead danc floor music die...  \n",
       "2  mark sunday footbal got boot pitch peopl gambl...  \n",
       "3  chri fallin fantasi threw away destini nt know...  \n",
       "4  someth way touch hold hand hold back much some...  "
      ]
     },
     "execution_count": 9,
     "metadata": {},
     "output_type": "execute_result"
    }
   ],
   "source": [
    "lyrics.head()"
   ]
  },
  {
   "cell_type": "code",
   "execution_count": 10,
   "metadata": {},
   "outputs": [],
   "source": [
    "lyrics.to_csv('../output/processed data.csv', index = False)"
   ]
  },
  {
   "cell_type": "code",
   "execution_count": null,
   "metadata": {},
   "outputs": [],
   "source": []
  }
 ],
 "metadata": {
  "kernelspec": {
   "display_name": "Python 3",
   "language": "python",
   "name": "python3"
  },
  "language_info": {
   "codemirror_mode": {
    "name": "ipython",
    "version": 3
   },
   "file_extension": ".py",
   "mimetype": "text/x-python",
   "name": "python",
   "nbconvert_exporter": "python",
   "pygments_lexer": "ipython3",
   "version": "3.7.3"
  }
 },
 "nbformat": 4,
 "nbformat_minor": 2
}
